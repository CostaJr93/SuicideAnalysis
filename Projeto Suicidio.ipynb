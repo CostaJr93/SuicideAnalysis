{
 "cells": [
  {
   "cell_type": "markdown",
   "metadata": {},
   "source": [
    "# Projeto de Estatística Aplicada a Telemática\n",
    "### Aluno: Antonio Dartagnan Santos da Costa Junior Professor:Paulo Ribeiro Lins Junior\n",
    "\n",
    "Análise dos dados de suicídio no Mundo, dados retirados da fonte:https://www.kaggle.com/szamil/who-suicide-statistics O principal objetivo dessa análise de dados é responder três questões: Homens ou Mulheres se suicidam mais?; Proporção de suicídios no mundo por ano e idade; Proporção de suicídios no Brasil por ano e idade."
   ]
  },
  {
   "cell_type": "code",
   "execution_count": null,
   "metadata": {},
   "outputs": [],
   "source": []
  },
  {
   "cell_type": "code",
   "execution_count": 207,
   "metadata": {},
   "outputs": [],
   "source": [
    "import pandas as pd\n",
    "import numpy as np\n",
    "import matplotlib.pyplot as plt\n",
    "%matplotlib inline\n",
    "import seaborn as sns"
   ]
  },
  {
   "cell_type": "code",
   "execution_count": 164,
   "metadata": {},
   "outputs": [],
   "source": [
    "df_suicidios = pd.read_csv(\"/home/dell/Documentos/Estatistica Aplicada a Telematica/Projeto P2/who_suicide_statistics.csv\")"
   ]
  },
  {
   "cell_type": "code",
   "execution_count": 165,
   "metadata": {},
   "outputs": [
    {
     "name": "stdout",
     "output_type": "stream",
     "text": [
      "<class 'pandas.core.frame.DataFrame'>\n",
      "RangeIndex: 43776 entries, 0 to 43775\n",
      "Data columns (total 6 columns):\n",
      "country        43776 non-null object\n",
      "year           43776 non-null int64\n",
      "sex            43776 non-null object\n",
      "age            43776 non-null object\n",
      "suicides_no    41520 non-null float64\n",
      "population     38316 non-null float64\n",
      "dtypes: float64(2), int64(1), object(3)\n",
      "memory usage: 2.0+ MB\n"
     ]
    }
   ],
   "source": [
    "df_suicidios.info()"
   ]
  },
  {
   "cell_type": "code",
   "execution_count": 166,
   "metadata": {
    "scrolled": true
   },
   "outputs": [
    {
     "data": {
      "text/html": [
       "<div>\n",
       "<style scoped>\n",
       "    .dataframe tbody tr th:only-of-type {\n",
       "        vertical-align: middle;\n",
       "    }\n",
       "\n",
       "    .dataframe tbody tr th {\n",
       "        vertical-align: top;\n",
       "    }\n",
       "\n",
       "    .dataframe thead th {\n",
       "        text-align: right;\n",
       "    }\n",
       "</style>\n",
       "<table border=\"1\" class=\"dataframe\">\n",
       "  <thead>\n",
       "    <tr style=\"text-align: right;\">\n",
       "      <th></th>\n",
       "      <th>country</th>\n",
       "      <th>year</th>\n",
       "      <th>sex</th>\n",
       "      <th>age</th>\n",
       "      <th>suicides_no</th>\n",
       "      <th>population</th>\n",
       "    </tr>\n",
       "  </thead>\n",
       "  <tbody>\n",
       "    <tr>\n",
       "      <th>0</th>\n",
       "      <td>Albania</td>\n",
       "      <td>1985</td>\n",
       "      <td>female</td>\n",
       "      <td>15-24 years</td>\n",
       "      <td>NaN</td>\n",
       "      <td>277900.0</td>\n",
       "    </tr>\n",
       "    <tr>\n",
       "      <th>1</th>\n",
       "      <td>Albania</td>\n",
       "      <td>1985</td>\n",
       "      <td>female</td>\n",
       "      <td>25-34 years</td>\n",
       "      <td>NaN</td>\n",
       "      <td>246800.0</td>\n",
       "    </tr>\n",
       "    <tr>\n",
       "      <th>2</th>\n",
       "      <td>Albania</td>\n",
       "      <td>1985</td>\n",
       "      <td>female</td>\n",
       "      <td>35-54 years</td>\n",
       "      <td>NaN</td>\n",
       "      <td>267500.0</td>\n",
       "    </tr>\n",
       "    <tr>\n",
       "      <th>3</th>\n",
       "      <td>Albania</td>\n",
       "      <td>1985</td>\n",
       "      <td>female</td>\n",
       "      <td>5-14 years</td>\n",
       "      <td>NaN</td>\n",
       "      <td>298300.0</td>\n",
       "    </tr>\n",
       "    <tr>\n",
       "      <th>4</th>\n",
       "      <td>Albania</td>\n",
       "      <td>1985</td>\n",
       "      <td>female</td>\n",
       "      <td>55-74 years</td>\n",
       "      <td>NaN</td>\n",
       "      <td>138700.0</td>\n",
       "    </tr>\n",
       "  </tbody>\n",
       "</table>\n",
       "</div>"
      ],
      "text/plain": [
       "   country  year     sex          age  suicides_no  population\n",
       "0  Albania  1985  female  15-24 years          NaN    277900.0\n",
       "1  Albania  1985  female  25-34 years          NaN    246800.0\n",
       "2  Albania  1985  female  35-54 years          NaN    267500.0\n",
       "3  Albania  1985  female   5-14 years          NaN    298300.0\n",
       "4  Albania  1985  female  55-74 years          NaN    138700.0"
      ]
     },
     "execution_count": 166,
     "metadata": {},
     "output_type": "execute_result"
    }
   ],
   "source": [
    "df_suicidios.head()"
   ]
  },
  {
   "cell_type": "code",
   "execution_count": 167,
   "metadata": {},
   "outputs": [],
   "source": [
    "codigo_idades = {'5-14 anos' :0,\n",
    "                '15-24 anos' :1,\n",
    "                '25-34 anos' :2,\n",
    "                '55-74 anos' :3,\n",
    "                '75 ou mais anos' :4}\n",
    "codigo_genero = {'feminino' :0,\n",
    "                'masculino' :1}"
   ]
  },
  {
   "cell_type": "code",
   "execution_count": 168,
   "metadata": {},
   "outputs": [
    {
     "data": {
      "text/html": [
       "<div>\n",
       "<style scoped>\n",
       "    .dataframe tbody tr th:only-of-type {\n",
       "        vertical-align: middle;\n",
       "    }\n",
       "\n",
       "    .dataframe tbody tr th {\n",
       "        vertical-align: top;\n",
       "    }\n",
       "\n",
       "    .dataframe thead th {\n",
       "        text-align: right;\n",
       "    }\n",
       "</style>\n",
       "<table border=\"1\" class=\"dataframe\">\n",
       "  <thead>\n",
       "    <tr style=\"text-align: right;\">\n",
       "      <th></th>\n",
       "      <th>Faltam</th>\n",
       "      <th>Faltam %</th>\n",
       "    </tr>\n",
       "  </thead>\n",
       "  <tbody>\n",
       "    <tr>\n",
       "      <th>country</th>\n",
       "      <td>0</td>\n",
       "      <td>0.000000</td>\n",
       "    </tr>\n",
       "    <tr>\n",
       "      <th>year</th>\n",
       "      <td>0</td>\n",
       "      <td>0.000000</td>\n",
       "    </tr>\n",
       "    <tr>\n",
       "      <th>sex</th>\n",
       "      <td>0</td>\n",
       "      <td>0.000000</td>\n",
       "    </tr>\n",
       "    <tr>\n",
       "      <th>age</th>\n",
       "      <td>0</td>\n",
       "      <td>0.000000</td>\n",
       "    </tr>\n",
       "    <tr>\n",
       "      <th>suicides_no</th>\n",
       "      <td>2256</td>\n",
       "      <td>0.051535</td>\n",
       "    </tr>\n",
       "    <tr>\n",
       "      <th>population</th>\n",
       "      <td>5460</td>\n",
       "      <td>0.124726</td>\n",
       "    </tr>\n",
       "  </tbody>\n",
       "</table>\n",
       "</div>"
      ],
      "text/plain": [
       "             Faltam  Faltam %\n",
       "country           0  0.000000\n",
       "year              0  0.000000\n",
       "sex               0  0.000000\n",
       "age               0  0.000000\n",
       "suicides_no    2256  0.051535\n",
       "population     5460  0.124726"
      ]
     },
     "execution_count": 168,
     "metadata": {},
     "output_type": "execute_result"
    }
   ],
   "source": [
    "dados_faltando = pd.DataFrame([],columns=['Faltam','Faltam %'])\n",
    "dados_faltando['Faltam'] = (df_suicidios.isna().sum())\n",
    "dados_faltando['Faltam %'] = (df_suicidios.isna().sum()/df_suicidios.shape[0])\n",
    "dados_faltando"
   ]
  },
  {
   "cell_type": "code",
   "execution_count": null,
   "metadata": {},
   "outputs": [],
   "source": []
  },
  {
   "cell_type": "markdown",
   "metadata": {},
   "source": [
    "Aproximadamente 5% dos dados de suicides_no faltando e 12,5% dos dados de population."
   ]
  },
  {
   "cell_type": "code",
   "execution_count": null,
   "metadata": {},
   "outputs": [],
   "source": []
  },
  {
   "cell_type": "code",
   "execution_count": 169,
   "metadata": {},
   "outputs": [],
   "source": [
    "dados_suicidio_nan = df_suicidios.suicides_no.isnull().groupby([df_suicidios['country']]).sum().astype(int).reset_index(name='count')\n",
    "dados_populacao_nan = df_suicidios.population.isnull().groupby([df_suicidios['country']]).sum().astype(int).reset_index(name='count')\n",
    "dados_faltando_por_pais = pd.DataFrame(df_suicidios.groupby(df_suicidios['country'])['suicides_no'].count())\n",
    "dados_faltando_por_pais = dados_faltando_por_pais.reset_index()\n",
    "#dados_faltando_por_pais numero de suicidios faltando\n",
    "\n",
    "proporcao = pd.DataFrame([], columns= ['pais', '% suicidios faltando', '% populacao faltando'])\n",
    "proporcao['% suicidios faltando'] = dados_suicidio_nan['count']/dados_faltando_por_pais['suicides_no']\n",
    "proporcao['% populacao faltando'] = dados_populacao_nan['count']/dados_faltando_por_pais['suicides_no']\n",
    "proporcao['pais'] = dados_suicidio_nan['country']"
   ]
  },
  {
   "cell_type": "code",
   "execution_count": 170,
   "metadata": {
    "scrolled": true
   },
   "outputs": [
    {
     "data": {
      "text/html": [
       "<div>\n",
       "<style scoped>\n",
       "    .dataframe tbody tr th:only-of-type {\n",
       "        vertical-align: middle;\n",
       "    }\n",
       "\n",
       "    .dataframe tbody tr th {\n",
       "        vertical-align: top;\n",
       "    }\n",
       "\n",
       "    .dataframe thead th {\n",
       "        text-align: right;\n",
       "    }\n",
       "</style>\n",
       "<table border=\"1\" class=\"dataframe\">\n",
       "  <thead>\n",
       "    <tr style=\"text-align: right;\">\n",
       "      <th></th>\n",
       "      <th>pais</th>\n",
       "      <th>% suicidios faltando</th>\n",
       "      <th>% populacao faltando</th>\n",
       "    </tr>\n",
       "  </thead>\n",
       "  <tbody>\n",
       "    <tr>\n",
       "      <th>80</th>\n",
       "      <td>Mongolia</td>\n",
       "      <td>1.000000</td>\n",
       "      <td>0.000000</td>\n",
       "    </tr>\n",
       "    <tr>\n",
       "      <th>122</th>\n",
       "      <td>Switzerland</td>\n",
       "      <td>0.761905</td>\n",
       "      <td>0.000000</td>\n",
       "    </tr>\n",
       "    <tr>\n",
       "      <th>32</th>\n",
       "      <td>Denmark</td>\n",
       "      <td>0.681818</td>\n",
       "      <td>0.000000</td>\n",
       "    </tr>\n",
       "    <tr>\n",
       "      <th>109</th>\n",
       "      <td>San Marino</td>\n",
       "      <td>0.625000</td>\n",
       "      <td>0.125000</td>\n",
       "    </tr>\n",
       "    <tr>\n",
       "      <th>29</th>\n",
       "      <td>Cuba</td>\n",
       "      <td>0.541667</td>\n",
       "      <td>0.000000</td>\n",
       "    </tr>\n",
       "    <tr>\n",
       "      <th>94</th>\n",
       "      <td>Philippines</td>\n",
       "      <td>0.533333</td>\n",
       "      <td>0.000000</td>\n",
       "    </tr>\n",
       "    <tr>\n",
       "      <th>0</th>\n",
       "      <td>Albania</td>\n",
       "      <td>0.409091</td>\n",
       "      <td>0.000000</td>\n",
       "    </tr>\n",
       "    <tr>\n",
       "      <th>115</th>\n",
       "      <td>Slovakia</td>\n",
       "      <td>0.409091</td>\n",
       "      <td>0.000000</td>\n",
       "    </tr>\n",
       "    <tr>\n",
       "      <th>103</th>\n",
       "      <td>Romania</td>\n",
       "      <td>0.357143</td>\n",
       "      <td>0.000000</td>\n",
       "    </tr>\n",
       "    <tr>\n",
       "      <th>41</th>\n",
       "      <td>Finland</td>\n",
       "      <td>0.275862</td>\n",
       "      <td>0.000000</td>\n",
       "    </tr>\n",
       "    <tr>\n",
       "      <th>121</th>\n",
       "      <td>Sweden</td>\n",
       "      <td>0.266667</td>\n",
       "      <td>0.000000</td>\n",
       "    </tr>\n",
       "    <tr>\n",
       "      <th>88</th>\n",
       "      <td>Norway</td>\n",
       "      <td>0.233333</td>\n",
       "      <td>0.000000</td>\n",
       "    </tr>\n",
       "    <tr>\n",
       "      <th>17</th>\n",
       "      <td>Bosnia and Herzegovina</td>\n",
       "      <td>0.222222</td>\n",
       "      <td>0.000000</td>\n",
       "    </tr>\n",
       "    <tr>\n",
       "      <th>12</th>\n",
       "      <td>Belarus</td>\n",
       "      <td>0.214286</td>\n",
       "      <td>0.000000</td>\n",
       "    </tr>\n",
       "    <tr>\n",
       "      <th>95</th>\n",
       "      <td>Poland</td>\n",
       "      <td>0.193548</td>\n",
       "      <td>0.000000</td>\n",
       "    </tr>\n",
       "    <tr>\n",
       "      <th>44</th>\n",
       "      <td>Georgia</td>\n",
       "      <td>0.172414</td>\n",
       "      <td>0.000000</td>\n",
       "    </tr>\n",
       "    <tr>\n",
       "      <th>30</th>\n",
       "      <td>Cyprus</td>\n",
       "      <td>0.133333</td>\n",
       "      <td>0.000000</td>\n",
       "    </tr>\n",
       "    <tr>\n",
       "      <th>43</th>\n",
       "      <td>French Guiana</td>\n",
       "      <td>0.133333</td>\n",
       "      <td>0.000000</td>\n",
       "    </tr>\n",
       "    <tr>\n",
       "      <th>96</th>\n",
       "      <td>Portugal</td>\n",
       "      <td>0.125000</td>\n",
       "      <td>0.000000</td>\n",
       "    </tr>\n",
       "    <tr>\n",
       "      <th>139</th>\n",
       "      <td>Virgin Islands (USA)</td>\n",
       "      <td>0.111111</td>\n",
       "      <td>0.000000</td>\n",
       "    </tr>\n",
       "    <tr>\n",
       "      <th>36</th>\n",
       "      <td>Egypt</td>\n",
       "      <td>0.111111</td>\n",
       "      <td>0.000000</td>\n",
       "    </tr>\n",
       "    <tr>\n",
       "      <th>24</th>\n",
       "      <td>Cayman Islands</td>\n",
       "      <td>0.107143</td>\n",
       "      <td>0.964286</td>\n",
       "    </tr>\n",
       "    <tr>\n",
       "      <th>4</th>\n",
       "      <td>Armenia</td>\n",
       "      <td>0.093750</td>\n",
       "      <td>0.000000</td>\n",
       "    </tr>\n",
       "    <tr>\n",
       "      <th>65</th>\n",
       "      <td>Kiribati</td>\n",
       "      <td>0.090909</td>\n",
       "      <td>0.000000</td>\n",
       "    </tr>\n",
       "    <tr>\n",
       "      <th>100</th>\n",
       "      <td>Republic of Moldova</td>\n",
       "      <td>0.088235</td>\n",
       "      <td>0.000000</td>\n",
       "    </tr>\n",
       "    <tr>\n",
       "      <th>8</th>\n",
       "      <td>Azerbaijan</td>\n",
       "      <td>0.086957</td>\n",
       "      <td>0.000000</td>\n",
       "    </tr>\n",
       "    <tr>\n",
       "      <th>9</th>\n",
       "      <td>Bahamas</td>\n",
       "      <td>0.074074</td>\n",
       "      <td>0.000000</td>\n",
       "    </tr>\n",
       "    <tr>\n",
       "      <th>48</th>\n",
       "      <td>Guadeloupe</td>\n",
       "      <td>0.062500</td>\n",
       "      <td>0.000000</td>\n",
       "    </tr>\n",
       "    <tr>\n",
       "      <th>14</th>\n",
       "      <td>Belize</td>\n",
       "      <td>0.062500</td>\n",
       "      <td>0.000000</td>\n",
       "    </tr>\n",
       "    <tr>\n",
       "      <th>75</th>\n",
       "      <td>Martinique</td>\n",
       "      <td>0.058824</td>\n",
       "      <td>0.000000</td>\n",
       "    </tr>\n",
       "    <tr>\n",
       "      <th>104</th>\n",
       "      <td>Russian Federation</td>\n",
       "      <td>0.058824</td>\n",
       "      <td>0.000000</td>\n",
       "    </tr>\n",
       "    <tr>\n",
       "      <th>15</th>\n",
       "      <td>Bermuda</td>\n",
       "      <td>0.058824</td>\n",
       "      <td>0.941176</td>\n",
       "    </tr>\n",
       "    <tr>\n",
       "      <th>76</th>\n",
       "      <td>Mauritius</td>\n",
       "      <td>0.055556</td>\n",
       "      <td>0.000000</td>\n",
       "    </tr>\n",
       "    <tr>\n",
       "      <th>55</th>\n",
       "      <td>Iceland</td>\n",
       "      <td>0.055556</td>\n",
       "      <td>0.000000</td>\n",
       "    </tr>\n",
       "    <tr>\n",
       "      <th>20</th>\n",
       "      <td>Brunei Darussalam</td>\n",
       "      <td>0.050000</td>\n",
       "      <td>0.000000</td>\n",
       "    </tr>\n",
       "    <tr>\n",
       "      <th>124</th>\n",
       "      <td>TFYR Macedonia</td>\n",
       "      <td>0.043478</td>\n",
       "      <td>0.000000</td>\n",
       "    </tr>\n",
       "    <tr>\n",
       "      <th>137</th>\n",
       "      <td>Uzbekistan</td>\n",
       "      <td>0.034483</td>\n",
       "      <td>0.000000</td>\n",
       "    </tr>\n",
       "    <tr>\n",
       "      <th>105</th>\n",
       "      <td>Saint Kitts and Nevis</td>\n",
       "      <td>0.034483</td>\n",
       "      <td>0.896552</td>\n",
       "    </tr>\n",
       "    <tr>\n",
       "      <th>31</th>\n",
       "      <td>Czech Republic</td>\n",
       "      <td>0.032258</td>\n",
       "      <td>0.000000</td>\n",
       "    </tr>\n",
       "    <tr>\n",
       "      <th>132</th>\n",
       "      <td>Ukraine</td>\n",
       "      <td>0.031250</td>\n",
       "      <td>0.000000</td>\n",
       "    </tr>\n",
       "    <tr>\n",
       "      <th>64</th>\n",
       "      <td>Kazakhstan</td>\n",
       "      <td>0.030303</td>\n",
       "      <td>0.000000</td>\n",
       "    </tr>\n",
       "    <tr>\n",
       "      <th>92</th>\n",
       "      <td>Paraguay</td>\n",
       "      <td>0.030303</td>\n",
       "      <td>0.000000</td>\n",
       "    </tr>\n",
       "    <tr>\n",
       "      <th>136</th>\n",
       "      <td>Uruguay</td>\n",
       "      <td>0.030303</td>\n",
       "      <td>0.000000</td>\n",
       "    </tr>\n",
       "    <tr>\n",
       "      <th>130</th>\n",
       "      <td>Turkmenistan</td>\n",
       "      <td>0.030303</td>\n",
       "      <td>0.000000</td>\n",
       "    </tr>\n",
       "    <tr>\n",
       "      <th>38</th>\n",
       "      <td>Estonia</td>\n",
       "      <td>0.030303</td>\n",
       "      <td>0.000000</td>\n",
       "    </tr>\n",
       "    <tr>\n",
       "      <th>67</th>\n",
       "      <td>Kyrgyzstan</td>\n",
       "      <td>0.030303</td>\n",
       "      <td>0.000000</td>\n",
       "    </tr>\n",
       "    <tr>\n",
       "      <th>69</th>\n",
       "      <td>Lithuania</td>\n",
       "      <td>0.029412</td>\n",
       "      <td>0.000000</td>\n",
       "    </tr>\n",
       "    <tr>\n",
       "      <th>27</th>\n",
       "      <td>Costa Rica</td>\n",
       "      <td>0.028571</td>\n",
       "      <td>0.000000</td>\n",
       "    </tr>\n",
       "    <tr>\n",
       "      <th>21</th>\n",
       "      <td>Bulgaria</td>\n",
       "      <td>0.028571</td>\n",
       "      <td>0.000000</td>\n",
       "    </tr>\n",
       "    <tr>\n",
       "      <th>118</th>\n",
       "      <td>Spain</td>\n",
       "      <td>0.027778</td>\n",
       "      <td>0.000000</td>\n",
       "    </tr>\n",
       "    <tr>\n",
       "      <th>25</th>\n",
       "      <td>Chile</td>\n",
       "      <td>0.027778</td>\n",
       "      <td>0.000000</td>\n",
       "    </tr>\n",
       "    <tr>\n",
       "      <th>6</th>\n",
       "      <td>Australia</td>\n",
       "      <td>0.027778</td>\n",
       "      <td>0.000000</td>\n",
       "    </tr>\n",
       "    <tr>\n",
       "      <th>7</th>\n",
       "      <td>Austria</td>\n",
       "      <td>0.027027</td>\n",
       "      <td>0.000000</td>\n",
       "    </tr>\n",
       "    <tr>\n",
       "      <th>59</th>\n",
       "      <td>Israel</td>\n",
       "      <td>0.027027</td>\n",
       "      <td>0.000000</td>\n",
       "    </tr>\n",
       "    <tr>\n",
       "      <th>134</th>\n",
       "      <td>United Kingdom</td>\n",
       "      <td>0.027027</td>\n",
       "      <td>0.000000</td>\n",
       "    </tr>\n",
       "    <tr>\n",
       "      <th>135</th>\n",
       "      <td>United States of America</td>\n",
       "      <td>0.027027</td>\n",
       "      <td>0.000000</td>\n",
       "    </tr>\n",
       "  </tbody>\n",
       "</table>\n",
       "</div>"
      ],
      "text/plain": [
       "                         pais  % suicidios faltando  % populacao faltando\n",
       "80                   Mongolia              1.000000              0.000000\n",
       "122               Switzerland              0.761905              0.000000\n",
       "32                    Denmark              0.681818              0.000000\n",
       "109                San Marino              0.625000              0.125000\n",
       "29                       Cuba              0.541667              0.000000\n",
       "94                Philippines              0.533333              0.000000\n",
       "0                     Albania              0.409091              0.000000\n",
       "115                  Slovakia              0.409091              0.000000\n",
       "103                   Romania              0.357143              0.000000\n",
       "41                    Finland              0.275862              0.000000\n",
       "121                    Sweden              0.266667              0.000000\n",
       "88                     Norway              0.233333              0.000000\n",
       "17     Bosnia and Herzegovina              0.222222              0.000000\n",
       "12                    Belarus              0.214286              0.000000\n",
       "95                     Poland              0.193548              0.000000\n",
       "44                    Georgia              0.172414              0.000000\n",
       "30                     Cyprus              0.133333              0.000000\n",
       "43              French Guiana              0.133333              0.000000\n",
       "96                   Portugal              0.125000              0.000000\n",
       "139      Virgin Islands (USA)              0.111111              0.000000\n",
       "36                      Egypt              0.111111              0.000000\n",
       "24             Cayman Islands              0.107143              0.964286\n",
       "4                     Armenia              0.093750              0.000000\n",
       "65                   Kiribati              0.090909              0.000000\n",
       "100       Republic of Moldova              0.088235              0.000000\n",
       "8                  Azerbaijan              0.086957              0.000000\n",
       "9                     Bahamas              0.074074              0.000000\n",
       "48                 Guadeloupe              0.062500              0.000000\n",
       "14                     Belize              0.062500              0.000000\n",
       "75                 Martinique              0.058824              0.000000\n",
       "104        Russian Federation              0.058824              0.000000\n",
       "15                    Bermuda              0.058824              0.941176\n",
       "76                  Mauritius              0.055556              0.000000\n",
       "55                    Iceland              0.055556              0.000000\n",
       "20          Brunei Darussalam              0.050000              0.000000\n",
       "124            TFYR Macedonia              0.043478              0.000000\n",
       "137                Uzbekistan              0.034483              0.000000\n",
       "105     Saint Kitts and Nevis              0.034483              0.896552\n",
       "31             Czech Republic              0.032258              0.000000\n",
       "132                   Ukraine              0.031250              0.000000\n",
       "64                 Kazakhstan              0.030303              0.000000\n",
       "92                   Paraguay              0.030303              0.000000\n",
       "136                   Uruguay              0.030303              0.000000\n",
       "130              Turkmenistan              0.030303              0.000000\n",
       "38                    Estonia              0.030303              0.000000\n",
       "67                 Kyrgyzstan              0.030303              0.000000\n",
       "69                  Lithuania              0.029412              0.000000\n",
       "27                 Costa Rica              0.028571              0.000000\n",
       "21                   Bulgaria              0.028571              0.000000\n",
       "118                     Spain              0.027778              0.000000\n",
       "25                      Chile              0.027778              0.000000\n",
       "6                   Australia              0.027778              0.000000\n",
       "7                     Austria              0.027027              0.000000\n",
       "59                     Israel              0.027027              0.000000\n",
       "134            United Kingdom              0.027027              0.000000\n",
       "135  United States of America              0.027027              0.000000"
      ]
     },
     "execution_count": 170,
     "metadata": {},
     "output_type": "execute_result"
    }
   ],
   "source": [
    "proporcao[proporcao['% suicidios faltando'] > 0].sort_values(by=['% suicidios faltando'], ascending=False)"
   ]
  },
  {
   "cell_type": "code",
   "execution_count": null,
   "metadata": {},
   "outputs": [],
   "source": []
  },
  {
   "cell_type": "markdown",
   "metadata": {},
   "source": [
    "   Olhando os dados que faltam análisamos que os cinco países com mais dados faltando são: Mongolia, Suiça, Dinamarca, São Marinho e Cuba. E os países que tem menos dados faltando são: Estados Unidos da América, Reino Unido, Israel, Austria e Australia. \n",
    "   Para maior facilidade de manuseio do datasheet será feita uma limpeza nos dados em falta. "
   ]
  },
  {
   "cell_type": "code",
   "execution_count": null,
   "metadata": {},
   "outputs": [],
   "source": []
  },
  {
   "cell_type": "code",
   "execution_count": 171,
   "metadata": {},
   "outputs": [
    {
     "data": {
      "text/html": [
       "<div>\n",
       "<style scoped>\n",
       "    .dataframe tbody tr th:only-of-type {\n",
       "        vertical-align: middle;\n",
       "    }\n",
       "\n",
       "    .dataframe tbody tr th {\n",
       "        vertical-align: top;\n",
       "    }\n",
       "\n",
       "    .dataframe thead th {\n",
       "        text-align: right;\n",
       "    }\n",
       "</style>\n",
       "<table border=\"1\" class=\"dataframe\">\n",
       "  <thead>\n",
       "    <tr style=\"text-align: right;\">\n",
       "      <th></th>\n",
       "      <th>country</th>\n",
       "      <th>year</th>\n",
       "      <th>sex</th>\n",
       "      <th>age</th>\n",
       "      <th>suicides_no</th>\n",
       "      <th>population</th>\n",
       "    </tr>\n",
       "  </thead>\n",
       "  <tbody>\n",
       "    <tr>\n",
       "      <th>24</th>\n",
       "      <td>Albania</td>\n",
       "      <td>1987</td>\n",
       "      <td>female</td>\n",
       "      <td>15-24 years</td>\n",
       "      <td>14.0</td>\n",
       "      <td>289700.0</td>\n",
       "    </tr>\n",
       "    <tr>\n",
       "      <th>25</th>\n",
       "      <td>Albania</td>\n",
       "      <td>1987</td>\n",
       "      <td>female</td>\n",
       "      <td>25-34 years</td>\n",
       "      <td>4.0</td>\n",
       "      <td>257200.0</td>\n",
       "    </tr>\n",
       "    <tr>\n",
       "      <th>26</th>\n",
       "      <td>Albania</td>\n",
       "      <td>1987</td>\n",
       "      <td>female</td>\n",
       "      <td>35-54 years</td>\n",
       "      <td>6.0</td>\n",
       "      <td>278800.0</td>\n",
       "    </tr>\n",
       "    <tr>\n",
       "      <th>27</th>\n",
       "      <td>Albania</td>\n",
       "      <td>1987</td>\n",
       "      <td>female</td>\n",
       "      <td>5-14 years</td>\n",
       "      <td>0.0</td>\n",
       "      <td>311000.0</td>\n",
       "    </tr>\n",
       "    <tr>\n",
       "      <th>28</th>\n",
       "      <td>Albania</td>\n",
       "      <td>1987</td>\n",
       "      <td>female</td>\n",
       "      <td>55-74 years</td>\n",
       "      <td>0.0</td>\n",
       "      <td>144600.0</td>\n",
       "    </tr>\n",
       "  </tbody>\n",
       "</table>\n",
       "</div>"
      ],
      "text/plain": [
       "    country  year     sex          age  suicides_no  population\n",
       "24  Albania  1987  female  15-24 years         14.0    289700.0\n",
       "25  Albania  1987  female  25-34 years          4.0    257200.0\n",
       "26  Albania  1987  female  35-54 years          6.0    278800.0\n",
       "27  Albania  1987  female   5-14 years          0.0    311000.0\n",
       "28  Albania  1987  female  55-74 years          0.0    144600.0"
      ]
     },
     "execution_count": 171,
     "metadata": {},
     "output_type": "execute_result"
    }
   ],
   "source": [
    "df_suicidios_limpo = df_suicidios.dropna()\n",
    "df_suicidios_limpo.head()"
   ]
  },
  {
   "cell_type": "code",
   "execution_count": null,
   "metadata": {},
   "outputs": [],
   "source": []
  },
  {
   "cell_type": "markdown",
   "metadata": {},
   "source": [
    "## Homens ou Mulheres, quem comete mais suicídios?"
   ]
  },
  {
   "cell_type": "code",
   "execution_count": null,
   "metadata": {},
   "outputs": [],
   "source": []
  },
  {
   "cell_type": "code",
   "execution_count": 180,
   "metadata": {},
   "outputs": [
    {
     "name": "stdout",
     "output_type": "stream",
     "text": [
      "sex\n",
      "female    1894294.0\n",
      "male      6104173.0\n",
      "Name: suicides_no, dtype: float64\n"
     ]
    }
   ],
   "source": [
    "print(df_suicidios_limpo.groupby('sex')['suicides_no'].sum())"
   ]
  },
  {
   "cell_type": "code",
   "execution_count": 187,
   "metadata": {},
   "outputs": [
    {
     "data": {
      "text/plain": [
       "Text(0,0.5,'Número de Suicidios')"
      ]
     },
     "execution_count": 187,
     "metadata": {},
     "output_type": "execute_result"
    },
    {
     "data": {
      "image/png": "[encoded data removed]",
      "text/plain": [
       "<Figure size 720x504 with 1 Axes>"
      ]
     },
     "metadata": {
      "needs_background": "light"
     },
     "output_type": "display_data"
    }
   ],
   "source": [
    "df_suicidios_limpo.groupby('sex')['suicides_no'].sum().plot.bar(figsize=(10,7),title = \"Comparação da quantidade de suicídios Homem x Mulher\")\n",
    "plt.xlabel('Sexo')\n",
    "plt.ylabel('Número de Suicidios')"
   ]
  },
  {
   "cell_type": "code",
   "execution_count": null,
   "metadata": {},
   "outputs": [],
   "source": []
  },
  {
   "cell_type": "markdown",
   "metadata": {},
   "source": [
    "Pelos dados válidos presentes no datasheet verificamos que os homens cometem mais suicídios que as mulheres. Isso analisando em um âmbito geral do mundo, pode ser que em algum país as mulheres cometem mais suicídio que os homens."
   ]
  },
  {
   "cell_type": "code",
   "execution_count": null,
   "metadata": {},
   "outputs": [],
   "source": []
  },
  {
   "cell_type": "markdown",
   "metadata": {},
   "source": [
    "## Suicídios no mundo por idade e por ano"
   ]
  },
  {
   "cell_type": "code",
   "execution_count": null,
   "metadata": {},
   "outputs": [],
   "source": []
  },
  {
   "cell_type": "code",
   "execution_count": 188,
   "metadata": {},
   "outputs": [
    {
     "name": "stdout",
     "output_type": "stream",
     "text": [
      "age\n",
      "15-24 years     975700.0\n",
      "25-34 years    1360780.0\n",
      "35-54 years    2887740.0\n",
      "5-14 years       62320.0\n",
      "55-74 years    1955150.0\n",
      "75+ years       756777.0\n",
      "Name: suicides_no, dtype: float64\n"
     ]
    }
   ],
   "source": [
    "print(df_suicidios_limpo.groupby('age')['suicides_no'].sum())"
   ]
  },
  {
   "cell_type": "code",
   "execution_count": 192,
   "metadata": {},
   "outputs": [
    {
     "data": {
      "text/plain": [
       "Text(0,0.5,'Número de Suicidios')"
      ]
     },
     "execution_count": 192,
     "metadata": {},
     "output_type": "execute_result"
    },
    {
     "data": {
      "image/png": "[encoded data removed]",
      "text/plain": [
       "<Figure size 1080x504 with 1 Axes>"
      ]
     },
     "metadata": {
      "needs_background": "light"
     },
     "output_type": "display_data"
    }
   ],
   "source": [
    "df_suicidios_limpo.groupby('age')['suicides_no'].sum().sort_values().plot.bar(figsize=(15,7),title = \"Comparação de suicídios por idade\")\n",
    "plt.xlabel('Idade')\n",
    "plt.ylabel('Número de Suicidios')"
   ]
  },
  {
   "cell_type": "markdown",
   "metadata": {},
   "source": [
    "Agrupando os anos em períodos de décadas."
   ]
  },
  {
   "cell_type": "code",
   "execution_count": 193,
   "metadata": {
    "scrolled": true
   },
   "outputs": [
    {
     "name": "stderr",
     "output_type": "stream",
     "text": [
      "/home/dell/anaconda3/lib/python3.7/site-packages/ipykernel_launcher.py:2: SettingWithCopyWarning: \n",
      "A value is trying to be set on a copy of a slice from a DataFrame.\n",
      "Try using .loc[row_indexer,col_indexer] = value instead\n",
      "\n",
      "See the caveats in the documentation: http://pandas.pydata.org/pandas-docs/stable/indexing.html#indexing-view-versus-copy\n",
      "  \n"
     ]
    },
    {
     "data": {
      "text/html": [
       "<div>\n",
       "<style scoped>\n",
       "    .dataframe tbody tr th:only-of-type {\n",
       "        vertical-align: middle;\n",
       "    }\n",
       "\n",
       "    .dataframe tbody tr th {\n",
       "        vertical-align: top;\n",
       "    }\n",
       "\n",
       "    .dataframe thead th {\n",
       "        text-align: right;\n",
       "    }\n",
       "</style>\n",
       "<table border=\"1\" class=\"dataframe\">\n",
       "  <thead>\n",
       "    <tr style=\"text-align: right;\">\n",
       "      <th></th>\n",
       "      <th>country</th>\n",
       "      <th>year</th>\n",
       "      <th>sex</th>\n",
       "      <th>age</th>\n",
       "      <th>suicides_no</th>\n",
       "      <th>population</th>\n",
       "      <th>decadas</th>\n",
       "    </tr>\n",
       "  </thead>\n",
       "  <tbody>\n",
       "    <tr>\n",
       "      <th>24</th>\n",
       "      <td>Albania</td>\n",
       "      <td>1987</td>\n",
       "      <td>female</td>\n",
       "      <td>15-24 years</td>\n",
       "      <td>14.0</td>\n",
       "      <td>289700.0</td>\n",
       "      <td>(1978, 1988]</td>\n",
       "    </tr>\n",
       "    <tr>\n",
       "      <th>25</th>\n",
       "      <td>Albania</td>\n",
       "      <td>1987</td>\n",
       "      <td>female</td>\n",
       "      <td>25-34 years</td>\n",
       "      <td>4.0</td>\n",
       "      <td>257200.0</td>\n",
       "      <td>(1978, 1988]</td>\n",
       "    </tr>\n",
       "    <tr>\n",
       "      <th>26</th>\n",
       "      <td>Albania</td>\n",
       "      <td>1987</td>\n",
       "      <td>female</td>\n",
       "      <td>35-54 years</td>\n",
       "      <td>6.0</td>\n",
       "      <td>278800.0</td>\n",
       "      <td>(1978, 1988]</td>\n",
       "    </tr>\n",
       "    <tr>\n",
       "      <th>27</th>\n",
       "      <td>Albania</td>\n",
       "      <td>1987</td>\n",
       "      <td>female</td>\n",
       "      <td>5-14 years</td>\n",
       "      <td>0.0</td>\n",
       "      <td>311000.0</td>\n",
       "      <td>(1978, 1988]</td>\n",
       "    </tr>\n",
       "    <tr>\n",
       "      <th>28</th>\n",
       "      <td>Albania</td>\n",
       "      <td>1987</td>\n",
       "      <td>female</td>\n",
       "      <td>55-74 years</td>\n",
       "      <td>0.0</td>\n",
       "      <td>144600.0</td>\n",
       "      <td>(1978, 1988]</td>\n",
       "    </tr>\n",
       "  </tbody>\n",
       "</table>\n",
       "</div>"
      ],
      "text/plain": [
       "    country  year     sex          age  suicides_no  population       decadas\n",
       "24  Albania  1987  female  15-24 years         14.0    289700.0  (1978, 1988]\n",
       "25  Albania  1987  female  25-34 years          4.0    257200.0  (1978, 1988]\n",
       "26  Albania  1987  female  35-54 years          6.0    278800.0  (1978, 1988]\n",
       "27  Albania  1987  female   5-14 years          0.0    311000.0  (1978, 1988]\n",
       "28  Albania  1987  female  55-74 years          0.0    144600.0  (1978, 1988]"
      ]
     },
     "execution_count": 193,
     "metadata": {},
     "output_type": "execute_result"
    }
   ],
   "source": [
    "decadas = [1978,1988,1998,2008,2018]\n",
    "df_suicidios_limpo['decadas'] = pd.cut(df_suicidios_limpo['year'], decadas)\n",
    "df_suicidios_limpo.head()"
   ]
  },
  {
   "cell_type": "code",
   "execution_count": 195,
   "metadata": {},
   "outputs": [
    {
     "name": "stdout",
     "output_type": "stream",
     "text": [
      "decadas\n",
      "(1978, 1988]    1605042.0\n",
      "(1988, 1998]    2271142.0\n",
      "(1998, 2008]    2483115.0\n",
      "(2008, 2018]    1639168.0\n",
      "Name: suicides_no, dtype: float64\n"
     ]
    }
   ],
   "source": [
    "print(df_suicidios_limpo.groupby('decadas')['suicides_no'].sum())"
   ]
  },
  {
   "cell_type": "code",
   "execution_count": 198,
   "metadata": {},
   "outputs": [
    {
     "data": {
      "text/plain": [
       "Text(0,0.5,'Número de Suicidios')"
      ]
     },
     "execution_count": 198,
     "metadata": {},
     "output_type": "execute_result"
    },
    {
     "data": {
      "image/png": "[encoded data removed]",
      "text/plain": [
       "<Figure size 1080x576 with 1 Axes>"
      ]
     },
     "metadata": {
      "needs_background": "light"
     },
     "output_type": "display_data"
    }
   ],
   "source": [
    "df_suicidios_limpo.groupby('decadas')['suicides_no'].sum().sort_index().plot.bar(figsize=(15,8),title = \"Comparação de suicídios em intervalos de décadas\")\n",
    "plt.xlabel('Décadas')\n",
    "plt.ylabel('Número de Suicidios')"
   ]
  },
  {
   "cell_type": "code",
   "execution_count": null,
   "metadata": {},
   "outputs": [],
   "source": []
  },
  {
   "cell_type": "markdown",
   "metadata": {},
   "source": [
    "Observando os gráficos chegamos a conclusão que a faixa etária que ocorre o maior indice de suicidios é entre 35 e 54 anos, e o período que ocorreu maior incidência de suicídios foi entre 1998 à 2008. Uma observação pertinente é que o indice de suicidios seguia um aumento considerado ao passar das décadas porém na passagem das décadas de 1998 à 2008 e de 2008 a 2018 ocorreu uma queda nas ocorrências de suicídio, o que não condiz com o que é visto na grande mídia mundial que alerta do alto indice de suicidio na década atual. Talvez essa queda se dê devido ao número de dados ausentes da análise por falta de dados."
   ]
  },
  {
   "cell_type": "code",
   "execution_count": null,
   "metadata": {},
   "outputs": [],
   "source": []
  },
  {
   "cell_type": "code",
   "execution_count": 202,
   "metadata": {
    "scrolled": true
   },
   "outputs": [
    {
     "data": {
      "text/plain": [
       "Text(0,0.5,'Número de Suicidios')"
      ]
     },
     "execution_count": 202,
     "metadata": {},
     "output_type": "execute_result"
    },
    {
     "data": {
      "image/png": "[encoded data removed]",
      "text/plain": [
       "<Figure size 1080x576 with 1 Axes>"
      ]
     },
     "metadata": {
      "needs_background": "light"
     },
     "output_type": "display_data"
    }
   ],
   "source": [
    "df_suicidios_limpo.groupby('year')['suicides_no'].sum().sort_index().plot.bar(figsize=(15,8),title = \"Comparação de suicídios em intervalos de décadas\")\n",
    "plt.xlabel('Anos')\n",
    "plt.ylabel('Número de Suicidios')"
   ]
  },
  {
   "cell_type": "code",
   "execution_count": null,
   "metadata": {},
   "outputs": [],
   "source": []
  },
  {
   "cell_type": "markdown",
   "metadata": {},
   "source": [
    "Com esse gráfico de suicídios por anos percebemos que realmente os dados de 2016 à 2018 estão ausentes em grande parte ou até mesmo não existindo, o que faria total diferença no comparativo final. Entretanto podemos perceber que depois do ano de 1988 o número de suicídios foi tendo uma crescente e sofrendo uma oscilação baixa, o que nos leva a pensar que os gráficos de 2016, 2017 e 2018 seguirão essa tendencia."
   ]
  },
  {
   "cell_type": "code",
   "execution_count": null,
   "metadata": {},
   "outputs": [],
   "source": []
  },
  {
   "cell_type": "markdown",
   "metadata": {},
   "source": [
    "## Comparativo de suicídios no Brasil por idade e ano"
   ]
  },
  {
   "cell_type": "code",
   "execution_count": null,
   "metadata": {},
   "outputs": [],
   "source": []
  },
  {
   "cell_type": "code",
   "execution_count": 242,
   "metadata": {},
   "outputs": [],
   "source": [
    "br_df = df_suicidios_limpo[df_suicidios_limpo.country=='Brazil']"
   ]
  },
  {
   "cell_type": "code",
   "execution_count": 229,
   "metadata": {},
   "outputs": [
    {
     "data": {
      "text/plain": [
       "Text(0,0.5,'Número de Suicídios')"
      ]
     },
     "execution_count": 229,
     "metadata": {},
     "output_type": "execute_result"
    },
    {
     "data": {
      "image/png": "[encoded data removed]",
      "text/plain": [
       "<Figure size 1080x576 with 1 Axes>"
      ]
     },
     "metadata": {
      "needs_background": "light"
     },
     "output_type": "display_data"
    }
   ],
   "source": [
    "pais = \"Brasil\"\n",
    "fig, ax = plt.subplots(figsize=(15,8))\n",
    "ax.set_title( 'Suicídios por idade ({})'.format(pais))\n",
    "p = sns.scatterplot(x=\"year\", y=\"suicides_no\", data=br_df,hue='age',style='sex')\n",
    "plt.xlabel('Anos')\n",
    "plt.ylabel('Número de Suicídios')"
   ]
  },
  {
   "cell_type": "code",
   "execution_count": 234,
   "metadata": {},
   "outputs": [
    {
     "data": {
      "text/html": [
       "<div>\n",
       "<style scoped>\n",
       "    .dataframe tbody tr th:only-of-type {\n",
       "        vertical-align: middle;\n",
       "    }\n",
       "\n",
       "    .dataframe tbody tr th {\n",
       "        vertical-align: top;\n",
       "    }\n",
       "\n",
       "    .dataframe thead th {\n",
       "        text-align: right;\n",
       "    }\n",
       "</style>\n",
       "<table border=\"1\" class=\"dataframe\">\n",
       "  <thead>\n",
       "    <tr style=\"text-align: right;\">\n",
       "      <th></th>\n",
       "      <th>country</th>\n",
       "      <th>year</th>\n",
       "      <th>sex</th>\n",
       "      <th>age</th>\n",
       "      <th>suicides_no</th>\n",
       "      <th>population</th>\n",
       "      <th>decadas</th>\n",
       "    </tr>\n",
       "  </thead>\n",
       "  <tbody>\n",
       "    <tr>\n",
       "      <th>6636</th>\n",
       "      <td>Brazil</td>\n",
       "      <td>2015</td>\n",
       "      <td>female</td>\n",
       "      <td>15-24 years</td>\n",
       "      <td>397.0</td>\n",
       "      <td>17047218.0</td>\n",
       "      <td>(2008, 2018]</td>\n",
       "    </tr>\n",
       "    <tr>\n",
       "      <th>6637</th>\n",
       "      <td>Brazil</td>\n",
       "      <td>2015</td>\n",
       "      <td>female</td>\n",
       "      <td>25-34 years</td>\n",
       "      <td>466.0</td>\n",
       "      <td>17546090.0</td>\n",
       "      <td>(2008, 2018]</td>\n",
       "    </tr>\n",
       "    <tr>\n",
       "      <th>6638</th>\n",
       "      <td>Brazil</td>\n",
       "      <td>2015</td>\n",
       "      <td>female</td>\n",
       "      <td>35-54 years</td>\n",
       "      <td>910.0</td>\n",
       "      <td>28461855.0</td>\n",
       "      <td>(2008, 2018]</td>\n",
       "    </tr>\n",
       "    <tr>\n",
       "      <th>6639</th>\n",
       "      <td>Brazil</td>\n",
       "      <td>2015</td>\n",
       "      <td>female</td>\n",
       "      <td>5-14 years</td>\n",
       "      <td>56.0</td>\n",
       "      <td>15430579.0</td>\n",
       "      <td>(2008, 2018]</td>\n",
       "    </tr>\n",
       "    <tr>\n",
       "      <th>6640</th>\n",
       "      <td>Brazil</td>\n",
       "      <td>2015</td>\n",
       "      <td>female</td>\n",
       "      <td>55-74 years</td>\n",
       "      <td>479.0</td>\n",
       "      <td>15122216.0</td>\n",
       "      <td>(2008, 2018]</td>\n",
       "    </tr>\n",
       "    <tr>\n",
       "      <th>6641</th>\n",
       "      <td>Brazil</td>\n",
       "      <td>2015</td>\n",
       "      <td>female</td>\n",
       "      <td>75+ years</td>\n",
       "      <td>89.0</td>\n",
       "      <td>3802086.0</td>\n",
       "      <td>(2008, 2018]</td>\n",
       "    </tr>\n",
       "    <tr>\n",
       "      <th>6642</th>\n",
       "      <td>Brazil</td>\n",
       "      <td>2015</td>\n",
       "      <td>male</td>\n",
       "      <td>15-24 years</td>\n",
       "      <td>1389.0</td>\n",
       "      <td>17569045.0</td>\n",
       "      <td>(2008, 2018]</td>\n",
       "    </tr>\n",
       "    <tr>\n",
       "      <th>6643</th>\n",
       "      <td>Brazil</td>\n",
       "      <td>2015</td>\n",
       "      <td>male</td>\n",
       "      <td>25-34 years</td>\n",
       "      <td>1897.0</td>\n",
       "      <td>17625976.0</td>\n",
       "      <td>(2008, 2018]</td>\n",
       "    </tr>\n",
       "    <tr>\n",
       "      <th>6644</th>\n",
       "      <td>Brazil</td>\n",
       "      <td>2015</td>\n",
       "      <td>male</td>\n",
       "      <td>35-54 years</td>\n",
       "      <td>3238.0</td>\n",
       "      <td>26989063.0</td>\n",
       "      <td>(2008, 2018]</td>\n",
       "    </tr>\n",
       "    <tr>\n",
       "      <th>6645</th>\n",
       "      <td>Brazil</td>\n",
       "      <td>2015</td>\n",
       "      <td>male</td>\n",
       "      <td>5-14 years</td>\n",
       "      <td>79.0</td>\n",
       "      <td>16057040.0</td>\n",
       "      <td>(2008, 2018]</td>\n",
       "    </tr>\n",
       "    <tr>\n",
       "      <th>6646</th>\n",
       "      <td>Brazil</td>\n",
       "      <td>2015</td>\n",
       "      <td>male</td>\n",
       "      <td>55-74 years</td>\n",
       "      <td>1693.0</td>\n",
       "      <td>12987357.0</td>\n",
       "      <td>(2008, 2018]</td>\n",
       "    </tr>\n",
       "    <tr>\n",
       "      <th>6647</th>\n",
       "      <td>Brazil</td>\n",
       "      <td>2015</td>\n",
       "      <td>male</td>\n",
       "      <td>75+ years</td>\n",
       "      <td>470.0</td>\n",
       "      <td>2448560.0</td>\n",
       "      <td>(2008, 2018]</td>\n",
       "    </tr>\n",
       "  </tbody>\n",
       "</table>\n",
       "</div>"
      ],
      "text/plain": [
       "     country  year     sex          age  suicides_no  population       decadas\n",
       "6636  Brazil  2015  female  15-24 years        397.0  17047218.0  (2008, 2018]\n",
       "6637  Brazil  2015  female  25-34 years        466.0  17546090.0  (2008, 2018]\n",
       "6638  Brazil  2015  female  35-54 years        910.0  28461855.0  (2008, 2018]\n",
       "6639  Brazil  2015  female   5-14 years         56.0  15430579.0  (2008, 2018]\n",
       "6640  Brazil  2015  female  55-74 years        479.0  15122216.0  (2008, 2018]\n",
       "6641  Brazil  2015  female    75+ years         89.0   3802086.0  (2008, 2018]\n",
       "6642  Brazil  2015    male  15-24 years       1389.0  17569045.0  (2008, 2018]\n",
       "6643  Brazil  2015    male  25-34 years       1897.0  17625976.0  (2008, 2018]\n",
       "6644  Brazil  2015    male  35-54 years       3238.0  26989063.0  (2008, 2018]\n",
       "6645  Brazil  2015    male   5-14 years         79.0  16057040.0  (2008, 2018]\n",
       "6646  Brazil  2015    male  55-74 years       1693.0  12987357.0  (2008, 2018]\n",
       "6647  Brazil  2015    male    75+ years        470.0   2448560.0  (2008, 2018]"
      ]
     },
     "execution_count": 234,
     "metadata": {},
     "output_type": "execute_result"
    }
   ],
   "source": [
    "br_df[br_df.year==2015]"
   ]
  },
  {
   "cell_type": "markdown",
   "metadata": {},
   "source": [
    "\n",
    "Observando esse gráfico percebe-se que no Brasil segue a tendência mundial de ocorrer um aumento no indice de suicidios a partir do período de 1998, ficando também claro o aumento exorbitante do indice de suicidios de pessoas na faixa dos 35 à 54 anos de idade, sendo bem discrepante das demais faixas etárias. E pela tabela em seguida da para fazer uma verificação mais precisa do gráfico no ano de 2015\n"
   ]
  },
  {
   "cell_type": "code",
   "execution_count": null,
   "metadata": {},
   "outputs": [],
   "source": []
  },
  {
   "cell_type": "code",
   "execution_count": 251,
   "metadata": {},
   "outputs": [],
   "source": [
    "decada_br_mulher = br_df[br_df.sex=='female'].groupby('decadas')['suicides_no'].sum()\n",
    "decada_br_homem = br_df[br_df.sex=='male'].groupby('decadas')['suicides_no'].sum()\n",
    "br_genero = br_df.groupby('sex').suicides_no.sum()\n",
    "br_decadas = br_df.groupby('decadas').suicides_no.sum()"
   ]
  },
  {
   "cell_type": "code",
   "execution_count": 245,
   "metadata": {},
   "outputs": [
    {
     "name": "stdout",
     "output_type": "stream",
     "text": [
      "decadas\n",
      "(1978, 1988]    11458.0\n",
      "(1988, 1998]    12793.0\n",
      "(1998, 2008]    16559.0\n",
      "(2008, 2018]    15141.0\n",
      "Name: suicides_no, dtype: float64\n",
      "decadas\n",
      "(1978, 1988]    11458.0\n",
      "(1988, 1998]    12793.0\n",
      "(1998, 2008]    16559.0\n",
      "(2008, 2018]    15141.0\n",
      "Name: suicides_no, dtype: float64\n"
     ]
    },
    {
     "data": {
      "text/plain": [
       "sex\n",
       "female     55951.0\n",
       "male      194873.0\n",
       "Name: suicides_no, dtype: float64"
      ]
     },
     "execution_count": 245,
     "metadata": {},
     "output_type": "execute_result"
    }
   ],
   "source": [
    "print(decada_br_mulher)\n",
    "print(decada_br_mulher)\n",
    "br_genero"
   ]
  },
  {
   "cell_type": "code",
   "execution_count": 249,
   "metadata": {},
   "outputs": [
    {
     "data": {
      "text/plain": [
       "Text(0,0.5,'Número de suicídeos')"
      ]
     },
     "execution_count": 249,
     "metadata": {},
     "output_type": "execute_result"
    },
    {
     "data": {
      "image/png": "[encoded data removed]",
      "text/plain": [
       "<Figure size 432x288 with 1 Axes>"
      ]
     },
     "metadata": {
      "needs_background": "light"
     },
     "output_type": "display_data"
    }
   ],
   "source": [
    "br_genero.plot.bar()\n",
    "plt.xlabel('Gênero')\n",
    "plt.ylabel('Número de suicídeos')"
   ]
  },
  {
   "cell_type": "code",
   "execution_count": 252,
   "metadata": {},
   "outputs": [
    {
     "data": {
      "text/plain": [
       "decadas\n",
       "(1978, 1988]    41848.0\n",
       "(1988, 1998]    58080.0\n",
       "(1998, 2008]    79697.0\n",
       "(2008, 2018]    71199.0\n",
       "Name: suicides_no, dtype: float64"
      ]
     },
     "execution_count": 252,
     "metadata": {},
     "output_type": "execute_result"
    }
   ],
   "source": [
    "br_decadas"
   ]
  },
  {
   "cell_type": "code",
   "execution_count": 253,
   "metadata": {},
   "outputs": [
    {
     "data": {
      "text/plain": [
       "Text(0,0.5,'Número de suicídeos')"
      ]
     },
     "execution_count": 253,
     "metadata": {},
     "output_type": "execute_result"
    },
    {
     "data": {
      "image/png": "[encoded data removed]",
      "text/plain": [
       "<Figure size 432x288 with 1 Axes>"
      ]
     },
     "metadata": {
      "needs_background": "light"
     },
     "output_type": "display_data"
    }
   ],
   "source": [
    "br_decadas.plot.bar()\n",
    "plt.xlabel('Décadas')\n",
    "plt.ylabel('Número de suicídeos')"
   ]
  },
  {
   "cell_type": "code",
   "execution_count": null,
   "metadata": {},
   "outputs": [],
   "source": []
  },
  {
   "cell_type": "markdown",
   "metadata": {},
   "source": [
    "Analisando os dois últimos gráficos, observamos que no Brasil o maior índice de pessoas que se suicidam são homens, e que seguindo o padrão mundial a década de 1998 a 2008 é o período que ocorreu maior índice de suicídios no país. Porém a decada de 2008 a 2018 está bem próxima da anterior em números de suicídio, apesar de possuir a maior ausência de dados, isso indica que quando os dados forem atualizados provavelmente a decada de 2008 à 2018 passará a década anterior no indice de suicidios."
   ]
  },
  {
   "cell_type": "code",
   "execution_count": 300,
   "metadata": {},
   "outputs": [],
   "source": [
    "periodo = ['1978-1988','1988-1998', '1998-2008', '2008-2018']"
   ]
  },
  {
   "cell_type": "code",
   "execution_count": 301,
   "metadata": {},
   "outputs": [],
   "source": [
    "br_df_porcentagem = br_df.groupby('decadas')['suicides_no'].sum()\n",
    "mulher_porcentagem = (decada_br_mulher * 100)/br_df_porcentagem\n",
    "homem_porcentagem = (decada_br_homem*100)/br_df_porcentagem\n"
   ]
  },
  {
   "cell_type": "code",
   "execution_count": 323,
   "metadata": {},
   "outputs": [
    {
     "data": {
      "image/png": "[encoded data removed]",
      "text/plain": [
       "<Figure size 432x288 with 1 Axes>"
      ]
     },
     "metadata": {
      "needs_background": "light"
     },
     "output_type": "display_data"
    }
   ],
   "source": [
    "df_mulher = pd.DataFrame(decada_br_mulher)\n",
    "df_homen = pd.DataFrame(decada_br_homem)\n",
    "bar1 = mulher_porcentagem\n",
    "bar2 = homem_porcentagem\n",
    "eixoX = np.array(periodo)\n",
    "plt.bar(eixoX, bar2, color=(0.2588,0.4433,1.0), width=.5, label='Homens')\n",
    "plt.bar(eixoX, bar1, color=(1.0,0.5,0.62), width=.5, label='Mulheres')\n",
    "plt.ylabel('% de suicídeos')\n",
    "plt.xlabel('Décadas')\n",
    "plt.title('% de suicídio de gênero por década')\n",
    "plt.legend()\n",
    "plt.show()"
   ]
  },
  {
   "cell_type": "code",
   "execution_count": 322,
   "metadata": {},
   "outputs": [
    {
     "data": {
      "text/plain": [
       "decadas\n",
       "(1978, 1988]    72.619958\n",
       "(1988, 1998]    77.973485\n",
       "(1998, 2008]    79.222555\n",
       "(2008, 2018]    78.734252\n",
       "Name: suicides_no, dtype: float64"
      ]
     },
     "execution_count": 322,
     "metadata": {},
     "output_type": "execute_result"
    }
   ],
   "source": [
    "homem_porcentagem"
   ]
  },
  {
   "cell_type": "code",
   "execution_count": 303,
   "metadata": {},
   "outputs": [
    {
     "data": {
      "text/plain": [
       "decadas\n",
       "(1978, 1988]    27.380042\n",
       "(1988, 1998]    22.026515\n",
       "(1998, 2008]    20.777445\n",
       "(2008, 2018]    21.265748\n",
       "Name: suicides_no, dtype: float64"
      ]
     },
     "execution_count": 303,
     "metadata": {},
     "output_type": "execute_result"
    }
   ],
   "source": [
    "mulher_porcentagem"
   ]
  },
  {
   "cell_type": "code",
   "execution_count": null,
   "metadata": {},
   "outputs": [],
   "source": []
  },
  {
   "cell_type": "markdown",
   "metadata": {},
   "source": [
    "Observando o último gráfico, percebemos que a proporção de suicídios de acordo com o gênero no Brasil tem se mantido nas últimas décadas, sendo aproximadamente 22% mulheres e 78% homens que cometem o suicídio. Procurando explicações em alguns estudos, isso se deve ao fato de que as alternativas de suicídio escolhidas pelos homens serem mais letais (tiro na cabeça, enforcamento, saltar de um prédio), já as alternativas utilizadas pelas mulheres não são tão letais (overdose de sonífero, overdose de remédio para dor, cortar os pulsos) o que acaba fazendo com que exista um tempo para que o socorro chegue ou alguém ajude.\n"
   ]
  },
  {
   "cell_type": "code",
   "execution_count": null,
   "metadata": {},
   "outputs": [],
   "source": []
  }
 ],
 "metadata": {
  "kernelspec": {
   "display_name": "Python 3",
   "language": "python",
   "name": "python3"
  },
  "language_info": {
   "codemirror_mode": {
    "name": "ipython",
    "version": 3
   },
   "file_extension": ".py",
   "mimetype": "text/x-python",
   "name": "python",
   "nbconvert_exporter": "python",
   "pygments_lexer": "ipython3",
   "version": "3.7.0"
  }
 },
 "nbformat": 4,
 "nbformat_minor": 2
}
